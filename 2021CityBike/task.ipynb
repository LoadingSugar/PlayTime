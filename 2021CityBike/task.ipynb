{
 "cells": [
  {
   "cell_type": "code",
   "execution_count": 15,
   "metadata": {},
   "outputs": [],
   "source": [
    "import os, codecs\n",
    "import pandas as pd\n",
    "import numpy as np\n",
    "\n",
    "PATH = './data/'"
   ]
  },
  {
   "cell_type": "markdown",
   "metadata": {},
   "source": [
    "### 共享单车轨迹数据\n",
    "共享单车轨迹数据为共享单车在使用时候产生的位置定位数据，具体包含单车在不同时间段（默认是15秒记录一次）下的经纬度信息。"
   ]
  },
  {
   "cell_type": "code",
   "execution_count": 4,
   "metadata": {},
   "outputs": [],
   "source": [
    "# 共享单车轨迹数据\n",
    "bike_track = pd.concat([\n",
    "    pd.read_csv(PATH + 'gxdc_gj20201221.csv'),\n",
    "    pd.read_csv(PATH + 'gxdc_gj20201222.csv'),\n",
    "    pd.read_csv(PATH + 'gxdc_gj20201223.csv'),\n",
    "    pd.read_csv(PATH + 'gxdc_gj20201224.csv'),\n",
    "    pd.read_csv(PATH + 'gxdc_gj20201225.csv')\n",
    "\n",
    "])\n",
    "\n",
    "# 按照单车ID和时间进行排序\n",
    "bike_track = bike_track.sort_values(['BICYCLE_ID', 'LOCATING_TIME'])"
   ]
  },
  {
   "cell_type": "code",
   "execution_count": 5,
   "metadata": {},
   "outputs": [
    {
     "data": {
      "text/plain": [
       "BICYCLE_ID                        LOCATING_TIME        LATITUDE   LONGITUDE   source     LOCATING_TIME1       date        day  time       hour\n",
       "ffff8731363147633f83d75bce9cdd66  2020-12-25 09:21:23  24.486341  118.176282  CSXZGLZFJ  2020-12-25 09:21:23  2020-12-25  25    09:21:23  9       1\n",
       "5530a78273059b17377bd0e6eb38c9fc  2020-12-25 08:10:20  24.478848  118.125646  CSXZGLZFJ  2020-12-25 08:10:20  2020-12-25  25    08:10:20  8       1\n",
       "                                  2020-12-25 07:56:21  24.478396  118.125291  CSXZGLZFJ  2020-12-25 07:56:21  2020-12-25  25    07:56:21  7       1\n",
       "                                  2020-12-25 07:56:06  24.478030  118.124972  CSXZGLZFJ  2020-12-25 07:56:06  2020-12-25  25    07:56:06  7       1\n",
       "                                  2020-12-25 07:55:49  24.477480  118.124519  CSXZGLZFJ  2020-12-25 07:55:49  2020-12-25  25    07:55:49  7       1\n",
       "                                                                                                                                                 ..\n",
       "a9b4b0a6dda06ca9bca51394acddf577  2020-12-22 09:53:47  24.491565  118.044780  CSXZGLZFJ  2020-12-22 09:53:47  2020-12-22  22    09:53:47  9       1\n",
       "                                  2020-12-22 09:53:29  24.491570  118.044899  CSXZGLZFJ  2020-12-22 09:53:29  2020-12-22  22    09:53:29  9       1\n",
       "                                  2020-12-22 09:53:13  24.491488  118.044612  CSXZGLZFJ  2020-12-22 09:53:13  2020-12-22  22    09:53:13  9       1\n",
       "                                  2020-12-22 09:21:12  24.488556  118.046323  CSXZGLZFJ  2020-12-22 09:21:12  2020-12-22  22    09:21:12  9       1\n",
       "000152773681a23a7f2d9af8e8902703  2020-12-21 08:17:12  24.499834  118.126603  CSXZGLZFJ  2020-12-21 08:17:12  2020-12-21  21    08:17:12  8       1\n",
       "Length: 11920885, dtype: int64"
      ]
     },
     "execution_count": 5,
     "metadata": {},
     "output_type": "execute_result"
    }
   ],
   "source": [
    "bike_track.value_counts()"
   ]
  },
  {
   "cell_type": "markdown",
   "metadata": {},
   "source": [
    "### 路线可视化"
   ]
  },
  {
   "cell_type": "code",
   "execution_count": 6,
   "metadata": {},
   "outputs": [
    {
     "name": "stderr",
     "output_type": "stream",
     "text": [
      "/home/ysm/anaconda3/lib/python3.6/site-packages/ipykernel_launcher.py:4: FutureWarning: Method `add_children` is deprecated. Please use `add_child` instead.\n",
      "  after removing the cwd from sys.path.\n"
     ]
    },
    {
     "data": {
      "text/html": [
       "<div style=\"width:100%;\"><div style=\"position:relative;width:100%;height:0;padding-bottom:60%;\"><span style=\"color:#565656\">Make this Notebook Trusted to load map: File -> Trust Notebook</span><iframe src=\"about:blank\" style=\"position:absolute;width:100%;height:100%;left:0;top:0;border:none !important;\" data-html=%3C%21DOCTYPE%20html%3E%0A%3Chead%3E%20%20%20%20%0A%20%20%20%20%3Cmeta%20http-equiv%3D%22content-type%22%20content%3D%22text/html%3B%20charset%3DUTF-8%22%20/%3E%0A%20%20%20%20%0A%20%20%20%20%20%20%20%20%3Cscript%3E%0A%20%20%20%20%20%20%20%20%20%20%20%20L_NO_TOUCH%20%3D%20false%3B%0A%20%20%20%20%20%20%20%20%20%20%20%20L_DISABLE_3D%20%3D%20false%3B%0A%20%20%20%20%20%20%20%20%3C/script%3E%0A%20%20%20%20%0A%20%20%20%20%3Cstyle%3Ehtml%2C%20body%20%7Bwidth%3A%20100%25%3Bheight%3A%20100%25%3Bmargin%3A%200%3Bpadding%3A%200%3B%7D%3C/style%3E%0A%20%20%20%20%3Cstyle%3E%23map%20%7Bposition%3Aabsolute%3Btop%3A0%3Bbottom%3A0%3Bright%3A0%3Bleft%3A0%3B%7D%3C/style%3E%0A%20%20%20%20%3Cscript%20src%3D%22https%3A//cdn.jsdelivr.net/npm/leaflet%401.6.0/dist/leaflet.js%22%3E%3C/script%3E%0A%20%20%20%20%3Cscript%20src%3D%22https%3A//code.jquery.com/jquery-1.12.4.min.js%22%3E%3C/script%3E%0A%20%20%20%20%3Cscript%20src%3D%22https%3A//maxcdn.bootstrapcdn.com/bootstrap/3.2.0/js/bootstrap.min.js%22%3E%3C/script%3E%0A%20%20%20%20%3Cscript%20src%3D%22https%3A//cdnjs.cloudflare.com/ajax/libs/Leaflet.awesome-markers/2.0.2/leaflet.awesome-markers.js%22%3E%3C/script%3E%0A%20%20%20%20%3Clink%20rel%3D%22stylesheet%22%20href%3D%22https%3A//cdn.jsdelivr.net/npm/leaflet%401.6.0/dist/leaflet.css%22/%3E%0A%20%20%20%20%3Clink%20rel%3D%22stylesheet%22%20href%3D%22https%3A//maxcdn.bootstrapcdn.com/bootstrap/3.2.0/css/bootstrap.min.css%22/%3E%0A%20%20%20%20%3Clink%20rel%3D%22stylesheet%22%20href%3D%22https%3A//maxcdn.bootstrapcdn.com/bootstrap/3.2.0/css/bootstrap-theme.min.css%22/%3E%0A%20%20%20%20%3Clink%20rel%3D%22stylesheet%22%20href%3D%22https%3A//maxcdn.bootstrapcdn.com/font-awesome/4.6.3/css/font-awesome.min.css%22/%3E%0A%20%20%20%20%3Clink%20rel%3D%22stylesheet%22%20href%3D%22https%3A//cdnjs.cloudflare.com/ajax/libs/Leaflet.awesome-markers/2.0.2/leaflet.awesome-markers.css%22/%3E%0A%20%20%20%20%3Clink%20rel%3D%22stylesheet%22%20href%3D%22https%3A//cdn.jsdelivr.net/gh/python-visualization/folium/folium/templates/leaflet.awesome.rotate.min.css%22/%3E%0A%20%20%20%20%0A%20%20%20%20%20%20%20%20%20%20%20%20%3Cmeta%20name%3D%22viewport%22%20content%3D%22width%3Ddevice-width%2C%0A%20%20%20%20%20%20%20%20%20%20%20%20%20%20%20%20initial-scale%3D1.0%2C%20maximum-scale%3D1.0%2C%20user-scalable%3Dno%22%20/%3E%0A%20%20%20%20%20%20%20%20%20%20%20%20%3Cstyle%3E%0A%20%20%20%20%20%20%20%20%20%20%20%20%20%20%20%20%23map_18928e87ae5b489dbc7b958ff4abc12c%20%7B%0A%20%20%20%20%20%20%20%20%20%20%20%20%20%20%20%20%20%20%20%20position%3A%20relative%3B%0A%20%20%20%20%20%20%20%20%20%20%20%20%20%20%20%20%20%20%20%20width%3A%20100.0%25%3B%0A%20%20%20%20%20%20%20%20%20%20%20%20%20%20%20%20%20%20%20%20height%3A%20100.0%25%3B%0A%20%20%20%20%20%20%20%20%20%20%20%20%20%20%20%20%20%20%20%20left%3A%200.0%25%3B%0A%20%20%20%20%20%20%20%20%20%20%20%20%20%20%20%20%20%20%20%20top%3A%200.0%25%3B%0A%20%20%20%20%20%20%20%20%20%20%20%20%20%20%20%20%7D%0A%20%20%20%20%20%20%20%20%20%20%20%20%3C/style%3E%0A%20%20%20%20%20%20%20%20%0A%3C/head%3E%0A%3Cbody%3E%20%20%20%20%0A%20%20%20%20%0A%20%20%20%20%20%20%20%20%20%20%20%20%3Cdiv%20class%3D%22folium-map%22%20id%3D%22map_18928e87ae5b489dbc7b958ff4abc12c%22%20%3E%3C/div%3E%0A%20%20%20%20%20%20%20%20%0A%3C/body%3E%0A%3Cscript%3E%20%20%20%20%0A%20%20%20%20%0A%20%20%20%20%20%20%20%20%20%20%20%20var%20map_18928e87ae5b489dbc7b958ff4abc12c%20%3D%20L.map%28%0A%20%20%20%20%20%20%20%20%20%20%20%20%20%20%20%20%22map_18928e87ae5b489dbc7b958ff4abc12c%22%2C%0A%20%20%20%20%20%20%20%20%20%20%20%20%20%20%20%20%7B%0A%20%20%20%20%20%20%20%20%20%20%20%20%20%20%20%20%20%20%20%20center%3A%20%5B24.482426%2C%20118.157606%5D%2C%0A%20%20%20%20%20%20%20%20%20%20%20%20%20%20%20%20%20%20%20%20crs%3A%20L.CRS.EPSG3857%2C%0A%20%20%20%20%20%20%20%20%20%20%20%20%20%20%20%20%20%20%20%20zoom%3A%2012%2C%0A%20%20%20%20%20%20%20%20%20%20%20%20%20%20%20%20%20%20%20%20zoomControl%3A%20true%2C%0A%20%20%20%20%20%20%20%20%20%20%20%20%20%20%20%20%20%20%20%20preferCanvas%3A%20false%2C%0A%20%20%20%20%20%20%20%20%20%20%20%20%20%20%20%20%7D%0A%20%20%20%20%20%20%20%20%20%20%20%20%29%3B%0A%0A%20%20%20%20%20%20%20%20%20%20%20%20%0A%0A%20%20%20%20%20%20%20%20%0A%20%20%20%20%0A%20%20%20%20%20%20%20%20%20%20%20%20var%20tile_layer_334065a1433245219a5f3c3124b3a4ba%20%3D%20L.tileLayer%28%0A%20%20%20%20%20%20%20%20%20%20%20%20%20%20%20%20%22https%3A//%7Bs%7D.tile.openstreetmap.org/%7Bz%7D/%7Bx%7D/%7By%7D.png%22%2C%0A%20%20%20%20%20%20%20%20%20%20%20%20%20%20%20%20%7B%22attribution%22%3A%20%22Data%20by%20%5Cu0026copy%3B%20%5Cu003ca%20href%3D%5C%22http%3A//openstreetmap.org%5C%22%5Cu003eOpenStreetMap%5Cu003c/a%5Cu003e%2C%20under%20%5Cu003ca%20href%3D%5C%22http%3A//www.openstreetmap.org/copyright%5C%22%5Cu003eODbL%5Cu003c/a%5Cu003e.%22%2C%20%22detectRetina%22%3A%20false%2C%20%22maxNativeZoom%22%3A%2018%2C%20%22maxZoom%22%3A%2018%2C%20%22minZoom%22%3A%200%2C%20%22noWrap%22%3A%20false%2C%20%22opacity%22%3A%201%2C%20%22subdomains%22%3A%20%22abc%22%2C%20%22tms%22%3A%20false%7D%0A%20%20%20%20%20%20%20%20%20%20%20%20%29.addTo%28map_18928e87ae5b489dbc7b958ff4abc12c%29%3B%0A%20%20%20%20%20%20%20%20%0A%20%20%20%20%0A%20%20%20%20%20%20%20%20%20%20%20%20var%20poly_line_8ae316d6f16b42d5b986d3356ef6c813%20%3D%20L.polyline%28%0A%20%20%20%20%20%20%20%20%20%20%20%20%20%20%20%20%5B%5B24.499833857%2C%20118.126603483%5D%2C%20%5B24.49948288%2C%20118.12645087%5D%2C%20%5B24.498994593000003%2C%20118.126420347%5D%2C%20%5B24.498466246%2C%20118.12635167100001%5D%2C%20%5B24.497911200999997%2C%20118.12632114799999%5D%2C%20%5B24.497531630999998%2C%20118.126275364%5D%2C%20%5B24.497136811999997%2C%20118.126298256%5D%2C%20%5B24.497119595999997%2C%20118.125977768%5D%2C%20%5B24.496875368%2C%20118.125413098%5D%2C%20%5B24.496566362%2C%20118.12532153%5D%2C%20%5B24.496264991%2C%20118.125260485%5D%2C%20%5B24.496011308000003%2C%20118.125229962%5D%2C%20%5B24.495879687%2C%20118.125146024%5D%2C%20%5B24.495751813000002%2C%20118.124627137%5D%2C%20%5B24.495490434%2C%20118.124176925%5D%2C%20%5B24.494847559%2C%20118.12357409799999%5D%5D%2C%0A%20%20%20%20%20%20%20%20%20%20%20%20%20%20%20%20%7B%22bubblingMouseEvents%22%3A%20true%2C%20%22color%22%3A%20%22%233388ff%22%2C%20%22dashArray%22%3A%20null%2C%20%22dashOffset%22%3A%20null%2C%20%22fill%22%3A%20false%2C%20%22fillColor%22%3A%20%22%233388ff%22%2C%20%22fillOpacity%22%3A%200.2%2C%20%22fillRule%22%3A%20%22evenodd%22%2C%20%22lineCap%22%3A%20%22round%22%2C%20%22lineJoin%22%3A%20%22round%22%2C%20%22noClip%22%3A%20false%2C%20%22opacity%22%3A%201.0%2C%20%22smoothFactor%22%3A%201.0%2C%20%22stroke%22%3A%20true%2C%20%22weight%22%3A%205%7D%0A%20%20%20%20%20%20%20%20%20%20%20%20%29.addTo%28map_18928e87ae5b489dbc7b958ff4abc12c%29%3B%0A%20%20%20%20%20%20%20%20%0A%3C/script%3E onload=\"this.contentDocument.open();this.contentDocument.write(    decodeURIComponent(this.getAttribute('data-html')));this.contentDocument.close();\" allowfullscreen webkitallowfullscreen mozallowfullscreen></iframe></div></div>"
      ],
      "text/plain": [
       "<folium.folium.Map at 0x7f67cb2f75f8>"
      ]
     },
     "execution_count": 6,
     "metadata": {},
     "output_type": "execute_result"
    }
   ],
   "source": [
    "import folium\n",
    "m = folium.Map(location=[24.482426, 118.157606], zoom_start=12)\n",
    "my_PolyLine=folium.PolyLine(locations=bike_track[bike_track['BICYCLE_ID'] == '000152773681a23a7f2d9af8e8902703'][['LATITUDE', 'LONGITUDE']].values,weight=5)\n",
    "m.add_children(my_PolyLine)"
   ]
  },
  {
   "cell_type": "markdown",
   "metadata": {},
   "source": [
    "### 共享单车停车点位（电子围栏）数据\n",
    "共享单车停车点位（电子围栏）数据为规范共享单车停车秩序，统一划定的共享单车停放区域。"
   ]
  },
  {
   "cell_type": "code",
   "execution_count": 7,
   "metadata": {},
   "outputs": [],
   "source": [
    "def bike_fence_format(s):\n",
    "    s = s.replace('[', '').replace(']', '').split(',')\n",
    "    s = np.array(s).astype(float).reshape(5, -1)\n",
    "    return s\n",
    "\n",
    "# 共享单车停车点位（电子围栏）数据\n",
    "bike_fence = pd.read_csv(PATH + 'gxdc_tcd.csv')\n",
    "bike_fence['FENCE_LOC'] = bike_fence['FENCE_LOC'].apply(bike_fence_format)"
   ]
  },
  {
   "cell_type": "code",
   "execution_count": 9,
   "metadata": {},
   "outputs": [
    {
     "data": {
      "text/html": [
       "<div>\n",
       "<style scoped>\n",
       "    .dataframe tbody tr th:only-of-type {\n",
       "        vertical-align: middle;\n",
       "    }\n",
       "\n",
       "    .dataframe tbody tr th {\n",
       "        vertical-align: top;\n",
       "    }\n",
       "\n",
       "    .dataframe thead th {\n",
       "        text-align: right;\n",
       "    }\n",
       "</style>\n",
       "<table border=\"1\" class=\"dataframe\">\n",
       "  <thead>\n",
       "    <tr style=\"text-align: right;\">\n",
       "      <th></th>\n",
       "      <th>FENCE_ID</th>\n",
       "      <th>FENCE_LOC</th>\n",
       "    </tr>\n",
       "  </thead>\n",
       "  <tbody>\n",
       "    <tr>\n",
       "      <th>0</th>\n",
       "      <td>长乐路0_L_A17001</td>\n",
       "      <td>[[118.103198, 24.527338], [118.103224, 24.5273...</td>\n",
       "    </tr>\n",
       "    <tr>\n",
       "      <th>1</th>\n",
       "      <td>长乐路0_L_A17002</td>\n",
       "      <td>[[118.103171, 24.527303], [118.103198, 24.5273...</td>\n",
       "    </tr>\n",
       "    <tr>\n",
       "      <th>2</th>\n",
       "      <td>长乐路0_L_A17003</td>\n",
       "      <td>[[118.103231, 24.527386], [118.103257, 24.5274...</td>\n",
       "    </tr>\n",
       "    <tr>\n",
       "      <th>3</th>\n",
       "      <td>长乐路0_L_A17004</td>\n",
       "      <td>[[118.103257, 24.527421], [118.103282, 24.5274...</td>\n",
       "    </tr>\n",
       "    <tr>\n",
       "      <th>4</th>\n",
       "      <td>长乐路0_L_A17005</td>\n",
       "      <td>[[118.102948, 24.527003], [118.102979, 24.5270...</td>\n",
       "    </tr>\n",
       "  </tbody>\n",
       "</table>\n",
       "</div>"
      ],
      "text/plain": [
       "        FENCE_ID                                          FENCE_LOC\n",
       "0  长乐路0_L_A17001  [[118.103198, 24.527338], [118.103224, 24.5273...\n",
       "1  长乐路0_L_A17002  [[118.103171, 24.527303], [118.103198, 24.5273...\n",
       "2  长乐路0_L_A17003  [[118.103231, 24.527386], [118.103257, 24.5274...\n",
       "3  长乐路0_L_A17004  [[118.103257, 24.527421], [118.103282, 24.5274...\n",
       "4  长乐路0_L_A17005  [[118.102948, 24.527003], [118.102979, 24.5270..."
      ]
     },
     "execution_count": 9,
     "metadata": {},
     "output_type": "execute_result"
    }
   ],
   "source": [
    "bike_fence.head()"
   ]
  },
  {
   "cell_type": "raw",
   "metadata": {},
   "source": [
    "import folium\n",
    "m = folium.Map(location=[24.527338, 118.103198], zoom_start=12)\n",
    "\n",
    "for data in bike_fence['FENCE_LOC'].values[:100]:\n",
    "    folium.Marker(\n",
    "        data[0, ::-1]\n",
    "    ).add_to(m)\n",
    "m"
   ]
  },
  {
   "cell_type": "markdown",
   "metadata": {},
   "source": [
    "### 共享单车订单数据\n",
    "共享单车订单数据为共享单车使用时开锁和关锁信息的数据。"
   ]
  },
  {
   "cell_type": "code",
   "execution_count": 12,
   "metadata": {},
   "outputs": [],
   "source": [
    "# 共享单车订单数据\n",
    "bike_order = pd.read_csv(PATH + 'gxdc_dd.csv')\n",
    "bike_order = bike_order.sort_values(['BICYCLE_ID', 'UPDATE_TIME'])"
   ]
  },
  {
   "cell_type": "code",
   "execution_count": 13,
   "metadata": {},
   "outputs": [
    {
     "name": "stderr",
     "output_type": "stream",
     "text": [
      "/home/ysm/anaconda3/lib/python3.6/site-packages/ipykernel_launcher.py:4: FutureWarning: Method `add_children` is deprecated. Please use `add_child` instead.\n",
      "  after removing the cwd from sys.path.\n"
     ]
    },
    {
     "data": {
      "text/html": [
       "<div style=\"width:100%;\"><div style=\"position:relative;width:100%;height:0;padding-bottom:60%;\"><span style=\"color:#565656\">Make this Notebook Trusted to load map: File -> Trust Notebook</span><iframe src=\"about:blank\" style=\"position:absolute;width:100%;height:100%;left:0;top:0;border:none !important;\" data-html=%3C%21DOCTYPE%20html%3E%0A%3Chead%3E%20%20%20%20%0A%20%20%20%20%3Cmeta%20http-equiv%3D%22content-type%22%20content%3D%22text/html%3B%20charset%3DUTF-8%22%20/%3E%0A%20%20%20%20%0A%20%20%20%20%20%20%20%20%3Cscript%3E%0A%20%20%20%20%20%20%20%20%20%20%20%20L_NO_TOUCH%20%3D%20false%3B%0A%20%20%20%20%20%20%20%20%20%20%20%20L_DISABLE_3D%20%3D%20false%3B%0A%20%20%20%20%20%20%20%20%3C/script%3E%0A%20%20%20%20%0A%20%20%20%20%3Cstyle%3Ehtml%2C%20body%20%7Bwidth%3A%20100%25%3Bheight%3A%20100%25%3Bmargin%3A%200%3Bpadding%3A%200%3B%7D%3C/style%3E%0A%20%20%20%20%3Cstyle%3E%23map%20%7Bposition%3Aabsolute%3Btop%3A0%3Bbottom%3A0%3Bright%3A0%3Bleft%3A0%3B%7D%3C/style%3E%0A%20%20%20%20%3Cscript%20src%3D%22https%3A//cdn.jsdelivr.net/npm/leaflet%401.6.0/dist/leaflet.js%22%3E%3C/script%3E%0A%20%20%20%20%3Cscript%20src%3D%22https%3A//code.jquery.com/jquery-1.12.4.min.js%22%3E%3C/script%3E%0A%20%20%20%20%3Cscript%20src%3D%22https%3A//maxcdn.bootstrapcdn.com/bootstrap/3.2.0/js/bootstrap.min.js%22%3E%3C/script%3E%0A%20%20%20%20%3Cscript%20src%3D%22https%3A//cdnjs.cloudflare.com/ajax/libs/Leaflet.awesome-markers/2.0.2/leaflet.awesome-markers.js%22%3E%3C/script%3E%0A%20%20%20%20%3Clink%20rel%3D%22stylesheet%22%20href%3D%22https%3A//cdn.jsdelivr.net/npm/leaflet%401.6.0/dist/leaflet.css%22/%3E%0A%20%20%20%20%3Clink%20rel%3D%22stylesheet%22%20href%3D%22https%3A//maxcdn.bootstrapcdn.com/bootstrap/3.2.0/css/bootstrap.min.css%22/%3E%0A%20%20%20%20%3Clink%20rel%3D%22stylesheet%22%20href%3D%22https%3A//maxcdn.bootstrapcdn.com/bootstrap/3.2.0/css/bootstrap-theme.min.css%22/%3E%0A%20%20%20%20%3Clink%20rel%3D%22stylesheet%22%20href%3D%22https%3A//maxcdn.bootstrapcdn.com/font-awesome/4.6.3/css/font-awesome.min.css%22/%3E%0A%20%20%20%20%3Clink%20rel%3D%22stylesheet%22%20href%3D%22https%3A//cdnjs.cloudflare.com/ajax/libs/Leaflet.awesome-markers/2.0.2/leaflet.awesome-markers.css%22/%3E%0A%20%20%20%20%3Clink%20rel%3D%22stylesheet%22%20href%3D%22https%3A//cdn.jsdelivr.net/gh/python-visualization/folium/folium/templates/leaflet.awesome.rotate.min.css%22/%3E%0A%20%20%20%20%0A%20%20%20%20%20%20%20%20%20%20%20%20%3Cmeta%20name%3D%22viewport%22%20content%3D%22width%3Ddevice-width%2C%0A%20%20%20%20%20%20%20%20%20%20%20%20%20%20%20%20initial-scale%3D1.0%2C%20maximum-scale%3D1.0%2C%20user-scalable%3Dno%22%20/%3E%0A%20%20%20%20%20%20%20%20%20%20%20%20%3Cstyle%3E%0A%20%20%20%20%20%20%20%20%20%20%20%20%20%20%20%20%23map_f101fb20ea6842098f4b0641177286ad%20%7B%0A%20%20%20%20%20%20%20%20%20%20%20%20%20%20%20%20%20%20%20%20position%3A%20relative%3B%0A%20%20%20%20%20%20%20%20%20%20%20%20%20%20%20%20%20%20%20%20width%3A%20100.0%25%3B%0A%20%20%20%20%20%20%20%20%20%20%20%20%20%20%20%20%20%20%20%20height%3A%20100.0%25%3B%0A%20%20%20%20%20%20%20%20%20%20%20%20%20%20%20%20%20%20%20%20left%3A%200.0%25%3B%0A%20%20%20%20%20%20%20%20%20%20%20%20%20%20%20%20%20%20%20%20top%3A%200.0%25%3B%0A%20%20%20%20%20%20%20%20%20%20%20%20%20%20%20%20%7D%0A%20%20%20%20%20%20%20%20%20%20%20%20%3C/style%3E%0A%20%20%20%20%20%20%20%20%0A%3C/head%3E%0A%3Cbody%3E%20%20%20%20%0A%20%20%20%20%0A%20%20%20%20%20%20%20%20%20%20%20%20%3Cdiv%20class%3D%22folium-map%22%20id%3D%22map_f101fb20ea6842098f4b0641177286ad%22%20%3E%3C/div%3E%0A%20%20%20%20%20%20%20%20%0A%3C/body%3E%0A%3Cscript%3E%20%20%20%20%0A%20%20%20%20%0A%20%20%20%20%20%20%20%20%20%20%20%20var%20map_f101fb20ea6842098f4b0641177286ad%20%3D%20L.map%28%0A%20%20%20%20%20%20%20%20%20%20%20%20%20%20%20%20%22map_f101fb20ea6842098f4b0641177286ad%22%2C%0A%20%20%20%20%20%20%20%20%20%20%20%20%20%20%20%20%7B%0A%20%20%20%20%20%20%20%20%20%20%20%20%20%20%20%20%20%20%20%20center%3A%20%5B24.482426%2C%20118.157606%5D%2C%0A%20%20%20%20%20%20%20%20%20%20%20%20%20%20%20%20%20%20%20%20crs%3A%20L.CRS.EPSG3857%2C%0A%20%20%20%20%20%20%20%20%20%20%20%20%20%20%20%20%20%20%20%20zoom%3A%2012%2C%0A%20%20%20%20%20%20%20%20%20%20%20%20%20%20%20%20%20%20%20%20zoomControl%3A%20true%2C%0A%20%20%20%20%20%20%20%20%20%20%20%20%20%20%20%20%20%20%20%20preferCanvas%3A%20false%2C%0A%20%20%20%20%20%20%20%20%20%20%20%20%20%20%20%20%7D%0A%20%20%20%20%20%20%20%20%20%20%20%20%29%3B%0A%0A%20%20%20%20%20%20%20%20%20%20%20%20%0A%0A%20%20%20%20%20%20%20%20%0A%20%20%20%20%0A%20%20%20%20%20%20%20%20%20%20%20%20var%20tile_layer_41101e6eafc84497868af395526f65c0%20%3D%20L.tileLayer%28%0A%20%20%20%20%20%20%20%20%20%20%20%20%20%20%20%20%22https%3A//%7Bs%7D.tile.openstreetmap.org/%7Bz%7D/%7Bx%7D/%7By%7D.png%22%2C%0A%20%20%20%20%20%20%20%20%20%20%20%20%20%20%20%20%7B%22attribution%22%3A%20%22Data%20by%20%5Cu0026copy%3B%20%5Cu003ca%20href%3D%5C%22http%3A//openstreetmap.org%5C%22%5Cu003eOpenStreetMap%5Cu003c/a%5Cu003e%2C%20under%20%5Cu003ca%20href%3D%5C%22http%3A//www.openstreetmap.org/copyright%5C%22%5Cu003eODbL%5Cu003c/a%5Cu003e.%22%2C%20%22detectRetina%22%3A%20false%2C%20%22maxNativeZoom%22%3A%2018%2C%20%22maxZoom%22%3A%2018%2C%20%22minZoom%22%3A%200%2C%20%22noWrap%22%3A%20false%2C%20%22opacity%22%3A%201%2C%20%22subdomains%22%3A%20%22abc%22%2C%20%22tms%22%3A%20false%7D%0A%20%20%20%20%20%20%20%20%20%20%20%20%29.addTo%28map_f101fb20ea6842098f4b0641177286ad%29%3B%0A%20%20%20%20%20%20%20%20%0A%20%20%20%20%0A%20%20%20%20%20%20%20%20%20%20%20%20var%20poly_line_92b2a51f33f2478392fdbac9d1fb5360%20%3D%20L.polyline%28%0A%20%20%20%20%20%20%20%20%20%20%20%20%20%20%20%20%5B%5B24.521156%2C%20118.14038500000001%5D%2C%20%5B24.496578%2C%20118.14254299999999%5D%2C%20%5B24.496582%2C%20118.14261200000001%5D%2C%20%5B24.48135%2C%20118.167496%5D%2C%20%5B24.509607%2C%20118.155216%5D%2C%20%5B24.494801000000002%2C%20118.14756399999999%5D%2C%20%5B24.494648%2C%20118.147526%5D%2C%20%5B24.491365%2C%20118.149005%5D%2C%20%5B24.491301%2C%20118.149002%5D%2C%20%5B24.493236%2C%20118.14133899999999%5D%2C%20%5B24.493205%2C%20118.141015%5D%2C%20%5B24.498513%2C%20118.14313999999999%5D%2C%20%5B24.499019%2C%20118.14273100000001%5D%2C%20%5B24.496973%2C%20118.142227%5D%2C%20%5B24.495896%2C%20118.141908%5D%2C%20%5B24.494854%2C%20118.130241%5D%2C%20%5B24.481583999999998%2C%20118.11594199999999%5D%2C%20%5B24.483512%2C%20118.10733400000001%5D%2C%20%5B24.496748%2C%20118.11023300000001%5D%2C%20%5B24.494839000000002%2C%20118.110128%5D%2C%20%5B24.495514%2C%20118.11011%5D%2C%20%5B24.490897%2C%20118.105029%5D%5D%2C%0A%20%20%20%20%20%20%20%20%20%20%20%20%20%20%20%20%7B%22bubblingMouseEvents%22%3A%20true%2C%20%22color%22%3A%20%22%233388ff%22%2C%20%22dashArray%22%3A%20null%2C%20%22dashOffset%22%3A%20null%2C%20%22fill%22%3A%20false%2C%20%22fillColor%22%3A%20%22%233388ff%22%2C%20%22fillOpacity%22%3A%200.2%2C%20%22fillRule%22%3A%20%22evenodd%22%2C%20%22lineCap%22%3A%20%22round%22%2C%20%22lineJoin%22%3A%20%22round%22%2C%20%22noClip%22%3A%20false%2C%20%22opacity%22%3A%201.0%2C%20%22smoothFactor%22%3A%201.0%2C%20%22stroke%22%3A%20true%2C%20%22weight%22%3A%205%7D%0A%20%20%20%20%20%20%20%20%20%20%20%20%29.addTo%28map_f101fb20ea6842098f4b0641177286ad%29%3B%0A%20%20%20%20%20%20%20%20%0A%3C/script%3E onload=\"this.contentDocument.open();this.contentDocument.write(    decodeURIComponent(this.getAttribute('data-html')));this.contentDocument.close();\" allowfullscreen webkitallowfullscreen mozallowfullscreen></iframe></div></div>"
      ],
      "text/plain": [
       "<folium.folium.Map at 0x7f67c8ea1d30>"
      ]
     },
     "execution_count": 13,
     "metadata": {},
     "output_type": "execute_result"
    }
   ],
   "source": [
    "import folium\n",
    "m = folium.Map(location=[24.482426, 118.157606], zoom_start=12)\n",
    "my_PolyLine=folium.PolyLine(locations=bike_order[bike_order['BICYCLE_ID'] == '0000ff105fd5f9099b866bccd157dc50'][['LATITUDE', 'LONGITUDE']].values,weight=5)\n",
    "m.add_children(my_PolyLine)"
   ]
  },
  {
   "cell_type": "markdown",
   "metadata": {},
   "source": [
    "### 轨道交通数据"
   ]
  },
  {
   "cell_type": "raw",
   "metadata": {},
   "source": [
    "# 轨道站点进站客流数据\n",
    "rail_inflow = pd.read_excel(PATH + 'gdzdtjsj_jzkl.csv')\n",
    "rail_inflow = rail_inflow.drop(0)\n",
    "\n",
    "# 轨道站点出站客流数据\n",
    "rail_outflow = pd.read_excel(PATH + 'gdzdtjsj_czkl.csv')\n",
    "rail_outflow = rail_outflow.drop(0)\n",
    "\n",
    "# 轨道站点闸机设备编码数据\n",
    "rail_device = pd.read_excel(PATH + 'gdzdkltj_zjbh.csv')\n",
    "rail_device.columns = [\n",
    "    'LINE_NO', 'STATION_NO', 'STATION_NAME',\n",
    "    'A_IN_MANCHINE', 'A_OUT_MANCHINE', \n",
    "    'B_IN_MANCHINE', 'B_OUT_MANCHINE'\n",
    "]\n",
    "rail_device = rail_device.drop(0)"
   ]
  },
  {
   "cell_type": "raw",
   "metadata": {},
   "source": [
    "import geohash\n",
    "bike_order['geohash'] = bike_order.apply(lambda x: \n",
    "                        geohash.encode(x['LATITUDE'], x['LONGITUDE'], precision=9), axis=1)"
   ]
  },
  {
   "cell_type": "code",
   "execution_count": null,
   "metadata": {},
   "outputs": [],
   "source": [
    "from geopy.distance import geodesic\n",
    "\n",
    "bike_fence['MIN_LATITUDE'] = bike_fence['FENCE_LOC'].apply(lambda x: np.min(x[:, 1]))\n",
    "bike_fence['MAX_LATITUDE'] = bike_fence['FENCE_LOC'].apply(lambda x: np.max(x[:, 1]))\n",
    "\n",
    "bike_fence['MIN_LONGITUDE'] = bike_fence['FENCE_LOC'].apply(lambda x: np.min(x[:, 0]))\n",
    "bike_fence['MAX_LONGITUDE'] = bike_fence['FENCE_LOC'].apply(lambda x: np.max(x[:, 0]))\n",
    "\n",
    "bike_fence['FENCE_AREA'] = bike_fence.apply(lambda x: geodesic(\n",
    "    (x['MIN_LATITUDE'], x['MIN_LONGITUDE']), (x['MAX_LATITUDE'], x['MAX_LONGITUDE'])\n",
    ").meters, axis=1)\n",
    "\n",
    "bike_fence['FENCE_CENTER'] = bike_fence['FENCE_LOC'].apply(\n",
    "    lambda x: np.mean(x[:-1, ::-1], 0)\n",
    ")\n"
   ]
  },
  {
   "cell_type": "code",
   "execution_count": null,
   "metadata": {},
   "outputs": [],
   "source": [
    "import geohash\n",
    "bike_order['geohash'] = bike_order.apply(\n",
    "    lambda x: geohash.encode(x['LATITUDE'], x['LONGITUDE'], precision=6), \n",
    "axis=1)\n",
    "\n",
    "bike_fence['geohash'] = bike_fence['FENCE_CENTER'].apply(\n",
    "    lambda x: geohash.encode(x[0], x[1], precision=6)\n",
    ")\n",
    "\n",
    "\n",
    "# bike_order\n",
    "geohash.encode(24.521156, 118.140385, precision=6), \\\n",
    "geohash.encode(24.521156, 118.140325, precision=6)\n"
   ]
  },
  {
   "cell_type": "code",
   "execution_count": null,
   "metadata": {},
   "outputs": [],
   "source": [
    "bike_order['UPDATE_TIME'] = pd.to_datetime(bike_order['UPDATE_TIME'])\n",
    "bike_order['DAY'] = bike_order['UPDATE_TIME'].dt.day.astype(object)\n",
    "bike_order['DAY'] = bike_order['DAY'].apply(str)\n",
    "\n",
    "bike_order['HOUR'] = bike_order['UPDATE_TIME'].dt.hour.astype(object)\n",
    "bike_order['HOUR'] = bike_order['HOUR'].apply(str)\n",
    "bike_order['HOUR'] = bike_order['HOUR'].str.pad(width=2,side='left',fillchar='0')\n",
    "\n",
    "bike_order['DAY_HOUR'] = bike_order['DAY'] + bike_order['HOUR']\n"
   ]
  },
  {
   "cell_type": "markdown",
   "metadata": {},
   "source": [
    "## 按照经纬度聚合"
   ]
  },
  {
   "cell_type": "code",
   "execution_count": null,
   "metadata": {},
   "outputs": [],
   "source": [
    "bike_inflow = pd.pivot_table(bike_order[bike_order['LOCK_STATUS'] == 1], \n",
    "                   values='LOCK_STATUS', index=['geohash'],\n",
    "                    columns=['DAY_HOUR'], aggfunc='count', fill_value=0\n",
    ")\n",
    "\n",
    "bike_outflow = pd.pivot_table(bike_order[bike_order['LOCK_STATUS'] == 0], \n",
    "                   values='LOCK_STATUS', index=['geohash'],\n",
    "                    columns=['DAY_HOUR'], aggfunc='count', fill_value=0\n",
    ")\n",
    "\n",
    "bike_inflow.loc['wsk52r'].plot()\n",
    "bike_outflow.loc['wsk52r'].plot()\n",
    "plt.xticks(list(range(bike_inflow.shape[1])), bike_inflow.columns, rotation=40)\n",
    "plt.legend(['Inflow', 'OutFlow'])\n"
   ]
  },
  {
   "cell_type": "code",
   "execution_count": null,
   "metadata": {},
   "outputs": [],
   "source": [
    "bike_inflow.loc['wsk596'].plot()\n",
    "bike_outflow.loc['wsk596'].plot()\n",
    "plt.xticks(list(range(bike_inflow.shape[1])), bike_inflow.columns, rotation=40)\n",
    "plt.legend(['Inflow', 'OutFlow'])\n"
   ]
  },
  {
   "cell_type": "code",
   "execution_count": null,
   "metadata": {},
   "outputs": [],
   "source": [
    "bike_inflow = pd.pivot_table(bike_order[bike_order['LOCK_STATUS'] == 1], \n",
    "                   values='LOCK_STATUS', index=['geohash'],\n",
    "                    columns=['DAY'], aggfunc='count', fill_value=0\n",
    ")\n",
    "\n",
    "bike_outflow = pd.pivot_table(bike_order[bike_order['LOCK_STATUS'] == 0], \n",
    "                   values='LOCK_STATUS', index=['geohash'],\n",
    "                    columns=['DAY'], aggfunc='count', fill_value=0\n",
    ")\n"
   ]
  },
  {
   "cell_type": "code",
   "execution_count": null,
   "metadata": {},
   "outputs": [],
   "source": [
    "bike_remain = (bike_inflow - bike_outflow).fillna(0)\n",
    "bike_remain[bike_remain < 0] = 0  \n",
    "bike_remain = bike_remain.sum(1)\n",
    "bike_fence['DENSITY'] = bike_fence['geohash'].map(bike_remain).fillna(0)\n"
   ]
  },
  {
   "cell_type": "markdown",
   "metadata": {},
   "source": [
    "按照最近的经纬度\n",
    "思路： 按照订单计算与停车点的距离计算潮汐点；\n",
    "\n",
    "潮汐统计\n",
    "方法1：Geohash匹配计算潮汐"
   ]
  },
  {
   "cell_type": "code",
   "execution_count": null,
   "metadata": {},
   "outputs": [],
   "source": [
    "#由于赛题需要统计工作日早高峰期间的潮汐现象，所以我们可以按照天进行单车流量统计：\n",
    "bike_inflow = pd.pivot_table(bike_order[bike_order['LOCK_STATUS'] == 1], \n",
    "                   values='LOCK_STATUS', index=['geohash'],\n",
    "                    columns=['DAY'], aggfunc='count', fill_value=0\n",
    ")\n",
    "\n",
    "bike_outflow = pd.pivot_table(bike_order[bike_order['LOCK_STATUS'] == 0], \n",
    "                   values='LOCK_STATUS', index=['geohash'],\n",
    "                    columns=['DAY'], aggfunc='count', fill_value=0\n",
    ")\n"
   ]
  },
  {
   "cell_type": "code",
   "execution_count": null,
   "metadata": {},
   "outputs": [],
   "source": [
    "#根据入流量和出流量，可以计算得到每个位置的留存流量：\n",
    "bike_remain = (bike_inflow - bike_outflow).fillna(0)\n",
    "\n",
    "# 存在骑走的车数量 大于 进来的车数量\n",
    "bike_remain[bike_remain < 0] = 0  \n",
    "\n",
    "# 按照天求平均\n",
    "bike_remain = bike_remain.sum(1)\n",
    "\n",
    "#这里假设我们需要统计街道维度的潮汐情况，我们可以先把街道信息提取，然后计算密度。这里我们需要计算每个街道不同停车点的留存车辆，所以不能重复统计。\n",
    "\n",
    "# 总共有993条街\n",
    "bike_fence['STREET'] = bike_fence['FENCE_ID'].apply(lambda x: x.split('_')[0])\n",
    "\n",
    "# 留存车辆 / 街道停车位总面积，计算得到密度\n",
    "bike_density = bike_fence.groupby(['STREET'])['geohash'].unique().apply(\n",
    "    lambda hs: np.sum([bike_remain[x] for x in hs])\n",
    ") / bike_fence.groupby(['STREET'])['FENCE_AREA'].sum()\n",
    "\n",
    "# 按照密度倒序\n",
    "bike_density = bike_density.sort_values(ascending=False).reset_index()\n"
   ]
  },
  {
   "cell_type": "markdown",
   "metadata": {},
   "source": [
    "## 方法2：基于KNN密度匹配\n",
    "如果使用Geohash来统计会存在一个问题，统计的方法会不准确，导致只能精确到街道信息。本节将使用经纬度距离匹配的方法来进行尝试，具体的思路为计算订单最近的停车点，进而计算具体的潮汐情况。\n",
    "\n",
    "对于经纬度距离计算，可以直接使用sklearn中的NearestNeighbors，通过设置haversine距离可以很方便的完成最近停车点的计算。"
   ]
  },
  {
   "cell_type": "code",
   "execution_count": null,
   "metadata": {},
   "outputs": [],
   "source": [
    "from sklearn.neighbors import NearestNeighbors\n",
    "\n",
    "knn = NearestNeighbors(metric = \"haversine\", n_jobs=-1, algorithm='brute')\n",
    "knn.fit(np.stack(bike_fence['FENCE_CENTER'].values))\n",
    "\n",
    "NearestNeighbors(algorithm='brute', metric='haversine', n_jobs=-1)\n",
    "#计算订单中对应的停车点位置：\n",
    "dist, index = knn.kneighbors(bike_order[['LATITUDE','LONGITUDE']].values[:], n_neighbors=1)\n"
   ]
  },
  {
   "cell_type": "code",
   "execution_count": null,
   "metadata": {},
   "outputs": [],
   "source": [
    "#也可以使用hnsw提高搜索速度，但是会损失精度\n",
    "'''\n",
    "import hnswlib\n",
    "import numpy as np\n",
    "\n",
    "p = hnswlib.Index(space='l2', dim=2)\n",
    "p.init_index(max_elements=300000, ef_construction=1000, M=32)\n",
    "p.set_ef(1024)\n",
    "p.set_num_threads(14)\n",
    "\n",
    "p.add_items(np.stack(bike_fence['FENCE_CENTER'].values))\n",
    "\n",
    "index, dist = p.knn_query(bike_order[['LATITUDE','LONGITUDE']].values[:], k=1)\n",
    "\n",
    "'''\n"
   ]
  },
  {
   "cell_type": "code",
   "execution_count": null,
   "metadata": {},
   "outputs": [],
   "source": [
    "#计算所有停车点的潮汐流量：\n",
    "bike_order['fence'] = bike_fence.iloc[index.flatten()]['FENCE_ID'].values\n"
   ]
  },
  {
   "cell_type": "code",
   "execution_count": null,
   "metadata": {},
   "outputs": [],
   "source": [
    "bike_inflow = pd.pivot_table(bike_order[bike_order['LOCK_STATUS'] == 1], \n",
    "                   values='LOCK_STATUS', index=['fence'],\n",
    "                    columns=['DAY'], aggfunc='count', fill_value=0\n",
    ")\n",
    "\n",
    "bike_outflow = pd.pivot_table(bike_order[bike_order['LOCK_STATUS'] == 0], \n",
    "                   values='LOCK_STATUS', index=['fence'],\n",
    "                    columns=['DAY'], aggfunc='count', fill_value=0\n",
    ")\n",
    "\n",
    "bike_remain = (bike_inflow - bike_outflow).fillna(0)\n",
    "bike_remain[bike_remain < 0] = 0  \n",
    "bike_remain = bike_remain.sum(1)\n"
   ]
  },
  {
   "cell_type": "markdown",
   "metadata": {},
   "source": [
    "## 计算单车的密度"
   ]
  },
  {
   "cell_type": "code",
   "execution_count": null,
   "metadata": {},
   "outputs": [],
   "source": [
    "bike_density = bike_remain / bike_fence.set_index('FENCE_ID')['FENCE_AREA']\n",
    "bike_density = bike_density.sort_values(ascending=False).reset_index()\n",
    "bike_density = bike_density.fillna(0)\n"
   ]
  },
  {
   "cell_type": "code",
   "execution_count": null,
   "metadata": {},
   "outputs": [],
   "source": [
    "bike_density['label'] = '0'\n",
    "bike_density.iloc[:100, -1] = '1'\n",
    "\n",
    "bike_density['BELONG_AREA'] ='厦门'\n",
    "bike_density = bike_density.drop(0, axis=1)\n"
   ]
  },
  {
   "cell_type": "code",
   "execution_count": null,
   "metadata": {},
   "outputs": [],
   "source": [
    "bike_density.columns = ['FENCE_ID', 'FENCE_TYPE', 'BELONG_AREA']\n",
    "bike_density.to_csv('result.txt', index=None, sep='|')\n"
   ]
  }
 ],
 "metadata": {
  "kernelspec": {
   "display_name": "Python 3",
   "language": "python",
   "name": "python3"
  },
  "language_info": {
   "codemirror_mode": {
    "name": "ipython",
    "version": 3
   },
   "file_extension": ".py",
   "mimetype": "text/x-python",
   "name": "python",
   "nbconvert_exporter": "python",
   "pygments_lexer": "ipython3",
   "version": "3.6.12"
  }
 },
 "nbformat": 4,
 "nbformat_minor": 4
}
